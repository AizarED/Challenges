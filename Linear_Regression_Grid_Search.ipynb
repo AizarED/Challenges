{
 "cells": [
  {
   "cell_type": "code",
   "execution_count": null,
   "metadata": {
    "collapsed": true
   },
   "outputs": [],
   "source": [
    "#Setting up our generated data and libraries:\n",
    "import numpy as np \n",
    "np.set_printoptions(suppress=True) # dont print every number in scientific form\n",
    "import matplotlib.pyplot as plt\n",
    "import sys\n",
    "sys.path.append('..') # add utils location to path\n",
    "from utils import get_regression_data # function to create dummy data for regression\n",
    " \n",
    "X, Y = get_regression_data() # get dummy regression data\n",
    "#print(X.shape)\n",
    "#print(Y.shape)\n",
    "#print(X)\n",
    "#print(Y)"
   ]
  },
  {
   "cell_type": "code",
   "execution_count": null,
   "metadata": {
    "collapsed": true
   },
   "outputs": [],
   "source": [
    "#Defining our linear Hypothesis\n",
    "class LinearHypothesis:\n",
    "    def __init__(self): # initalize parameters \n",
    "        self.w = np.random.randn() ## randomly initialise weight\n",
    "        self.b = np.random.randn() ## randomly initialise bias\n",
    "        \n",
    "    def __call__(self, X): # how do we calculate output from an input in our model?\n",
    "        ypred = self.w * X + self.b ## make a prediction using a linear hypothesis\n",
    "        return ypred # return prediction\n",
    "    \n",
    "    def update_params(self, new_w, new_b):\n",
    "        self.w = new_w ## set this instance's weights to the new weight value passed to the function\n",
    "        self.b = new_b ## do the same for the bias"
   ]
  },
  {
   "cell_type": "code",
   "execution_count": null,
   "metadata": {
    "collapsed": true
   },
   "outputs": [],
   "source": [
    "#Need to modify this code to perform grid search. Currently this is  a place holder \n",
    "def grid_search(n_samples, limit=20):\n",
    "    \"\"\"Try out n_samples of random parameter pairs and return the best ones\"\"\"\n",
    "    best_weights = None ## no best weight found yet\n",
    "    best_bias = None ## no best bias found yet\n",
    "    lowest_cost = float('inf') ## initialize it very high (how high can it be?)\n",
    "    for i in range(0, n_samples): ## try this many different parameterisations\n",
    "        w = np.random.uniform(-limit, limit) ## randomly sample a weight within the limits of the search\n",
    "        b = np.random.uniform(-limit, limit) ## randomly sample a bias within the limits of the search\n",
    "        # print(w, b)\n",
    "        H.update_params(w, b) ## update our model with these random parameters\n",
    "        y_hat = H(X) ## make prediction\n",
    "        cost = L(y_hat, Y) ## calculate loss\n",
    "        if cost < lowest_cost: ## if this is the best parameterisation so far\n",
    "            lowest_cost = cost ## update the lowest running cost to the cost for this parameterisation\n",
    "            best_weights = w ## get best weights so far from the model\n",
    "            best_bias = b ## get best bias so far from the model\n",
    "    print('Lowest cost of', lowest_cost, 'achieved with weight of', best_weights, 'and bias of', best_bias)\n",
    "    return best_weights, best_bias ## return the best weight and best bias"
   ]
  },
  {
   "cell_type": "code",
   "execution_count": null,
   "metadata": {
    "collapsed": true
   },
   "outputs": [],
   "source": [
    "#Defining function to plot predictions and labels\n",
    "def plot_h_vs_y(X, y_hat, Y):\n",
    "    plt.figure()\n",
    "    plt.scatter(X, Y, c='r', label='Label')\n",
    "    plt.scatter(X, y_hat, c='b', label='Hypothesis', marker='x')\n",
    "    plt.legend()\n",
    "    plt.xlabel('X')\n",
    "    plt.ylabel('Y')\n",
    "    plt.show()"
   ]
  },
  {
   "cell_type": "code",
   "execution_count": null,
   "metadata": {
    "collapsed": true
   },
   "outputs": [],
   "source": [
    "#Runing model and ploting our results:\n",
    "best_weights, best_bias = random_search(10000) # do 10000 samples in a random search \n",
    "H.update_params(best_weights, best_bias) # make sure to set our model's weights to the best values we found\n",
    "plot_h_vs_y(X, H(X), Y) # plot model predictions agains labels"
   ]
  }
 ],
 "metadata": {
  "kernelspec": {
   "display_name": "Python 3",
   "language": "python",
   "name": "python3"
  },
  "language_info": {
   "codemirror_mode": {
    "name": "ipython",
    "version": 3
   },
   "file_extension": ".py",
   "mimetype": "text/x-python",
   "name": "python",
   "nbconvert_exporter": "python",
   "pygments_lexer": "ipython3",
   "version": "3.8.2"
  }
 },
 "nbformat": 4,
 "nbformat_minor": 2
}
